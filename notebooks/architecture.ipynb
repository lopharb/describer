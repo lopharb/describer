{
 "cells": [
  {
   "cell_type": "markdown",
   "id": "e5d1e46c",
   "metadata": {},
   "source": [
    "# Imports and constants\n"
   ]
  },
  {
   "cell_type": "code",
   "execution_count": null,
   "id": "3e5a90b2",
   "metadata": {},
   "outputs": [
    {
     "name": "stderr",
     "output_type": "stream",
     "text": [
      "/home/lopharb/Documents/personal/describer/.venv/lib/python3.12/site-packages/tqdm/auto.py:21: TqdmWarning: IProgress not found. Please update jupyter and ipywidgets. See https://ipywidgets.readthedocs.io/en/stable/user_install.html\n",
      "  from .autonotebook import tqdm as notebook_tqdm\n"
     ]
    }
   ],
   "source": [
    "import torch\n",
    "from torch import nn\n",
    "import torchvision\n",
    "from transformers import AutoTokenizer, AutoModelForSeq2SeqLM\n",
    "import transformers"
   ]
  },
  {
   "cell_type": "markdown",
   "id": "f80fe7fb",
   "metadata": {},
   "source": [
    "# CV model\n"
   ]
  },
  {
   "cell_type": "code",
   "execution_count": 3,
   "id": "837662d5",
   "metadata": {},
   "outputs": [],
   "source": [
    "# torch.hub._validate_not_a_forked_repo = lambda a, b, c: True\n",
    "\n",
    "class CNNBackbone(nn.Module):\n",
    "    def __init__(self, resnet):\n",
    "        super().__init__()\n",
    "\n",
    "        self.conv1 = resnet.conv1\n",
    "        self.bn1 = resnet.bn1\n",
    "        self.relu = resnet.relu\n",
    "        self.maxpool = resnet.maxpool\n",
    "        self.layer1 = resnet.layer1\n",
    "        self.layer2 = resnet.layer2\n",
    "        self.layer3 = resnet.layer3\n",
    "        self.layer4 = resnet.layer4\n",
    "        self.bottleneck = nn.Sequential(\n",
    "            nn.Linear(512, 1024),\n",
    "            nn.ReLU(),\n",
    "            nn.Linear(1024, 768),\n",
    "            nn.ReLU()\n",
    "        )\n",
    "\n",
    "    def forward(self, x) -> torch.Tensor:\n",
    "        x = self.conv1(x)\n",
    "        x = self.bn1(x)\n",
    "        x = self.relu(x)\n",
    "        x = self.maxpool(x)\n",
    "        x = self.layer1(x)\n",
    "        x = self.layer2(x)\n",
    "        x = self.layer3(x)\n",
    "        x = self.layer4(x)\n",
    "\n",
    "        x = x.reshape(-1, x.shape[-2]*x.shape[-1], 512)  # BxCxHxW -> BxNxD\n",
    "        x = self.bottleneck(x)\n",
    "\n",
    "        return x"
   ]
  },
  {
   "cell_type": "code",
   "execution_count": 9,
   "id": "0b8723bd",
   "metadata": {},
   "outputs": [
    {
     "name": "stderr",
     "output_type": "stream",
     "text": [
      "/home/lopharb/Documents/personal/describer/.venv/lib/python3.12/site-packages/torchvision/models/_utils.py:208: UserWarning: The parameter 'pretrained' is deprecated since 0.13 and may be removed in the future, please use 'weights' instead.\n",
      "  warnings.warn(\n",
      "/home/lopharb/Documents/personal/describer/.venv/lib/python3.12/site-packages/torchvision/models/_utils.py:223: UserWarning: Arguments other than a weight enum or `None` for 'weights' are deprecated since 0.13 and may be removed in the future. The current behavior is equivalent to passing `weights=ResNet18_Weights.IMAGENET1K_V1`. You can also use `weights=ResNet18_Weights.DEFAULT` to get the most up-to-date weights.\n",
      "  warnings.warn(msg)\n"
     ]
    },
    {
     "name": "stdout",
     "output_type": "stream",
     "text": [
      "['bildung 1ntontototototoTOtoTOTOTOTOTOTOTOTOTOTOTOTOTOTOTOTOTOTOTO']\n"
     ]
    }
   ],
   "source": [
    "tokenizer = AutoTokenizer.from_pretrained(\"google/flan-t5-base\")\n",
    "resnet = torchvision.models.resnet18(pretrained=True)\n",
    "flant5: transformers.models.t5.modeling_t5.T5ForConditionalGeneration = AutoModelForSeq2SeqLM.from_pretrained(\n",
    "    \"google/flan-t5-base\")\n",
    "\n",
    "image = torch.randn(1, 3, 224, 224)\n",
    "backbone = CNNBackbone(resnet)\n",
    "output = backbone(image)\n",
    "\n",
    "start_token_id = tokenizer.pad_token_id  # T5 uses pad token as decoder start\n",
    "input_ids = torch.full((1, 1), start_token_id, dtype=torch.long)\n",
    "\n",
    "# 4. Generate text\n",
    "output_ids = flant5.generate(\n",
    "    None,\n",
    "    encoder_outputs=transformers.modeling_outputs.BaseModelOutput(output),\n",
    "    max_length=30,\n",
    "    num_beams=3,\n",
    "    early_stopping=True\n",
    ")\n",
    "\n",
    "# 5. Decode\n",
    "decoded = tokenizer.batch_decode(output_ids, skip_special_tokens=True)\n",
    "print(decoded)"
   ]
  },
  {
   "cell_type": "markdown",
   "id": "1b4b2126",
   "metadata": {},
   "source": [
    "# Text model"
   ]
  }
 ],
 "metadata": {
  "kernelspec": {
   "display_name": "describer (3.12.10)",
   "language": "python",
   "name": "python3"
  },
  "language_info": {
   "codemirror_mode": {
    "name": "ipython",
    "version": 3
   },
   "file_extension": ".py",
   "mimetype": "text/x-python",
   "name": "python",
   "nbconvert_exporter": "python",
   "pygments_lexer": "ipython3",
   "version": "3.12.10"
  }
 },
 "nbformat": 4,
 "nbformat_minor": 5
}
